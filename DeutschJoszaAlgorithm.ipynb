{
 "cells": [
  {
   "cell_type": "code",
   "execution_count": 2,
   "metadata": {},
   "outputs": [],
   "source": [
    "# these three import lines are essential for running a quantum circuit \n",
    "from qiskit import QuantumRegister, ClassicalRegister, QuantumCircuit\n",
    "from qiskit import Aer, execute\n",
    "from qiskit.providers.aer import QasmSimulator\n",
    "# also import a visualization tool from qiskit\n",
    "from qiskit.tools.visualization import plot_histogram\n",
    "# import numpy incase we need it\n",
    "import numpy as np\n"
   ]
  },
  {
   "cell_type": "code",
   "execution_count": 3,
   "metadata": {},
   "outputs": [
    {
     "name": "stdout",
     "output_type": "stream",
     "text": [
      "              ░ ┌─┐   \n",
      "q_0: |0>──────░─┤M├───\n",
      "        ┌───┐ ░ └╥┘┌─┐\n",
      "q_1: |0>┤ X ├─░──╫─┤M├\n",
      "        └───┘ ░  ║ └╥┘\n",
      " c_0: 0 ═════════╬══╩═\n",
      "                 ║    \n",
      " c_1: 0 ═════════╩════\n",
      "                      \n",
      "{'01': 1000}\n"
     ]
    },
    {
     "data": {
      "image/png": "[encoded data removed]",
      "text/plain": [
       "<Figure size 504x360 with 1 Axes>"
      ]
     },
     "execution_count": 3,
     "metadata": {},
     "output_type": "execute_result"
    }
   ],
   "source": [
    "N = 2\n",
    "\n",
    "# create a quantum register of N qubits, called 'q'. Note that the qubits in the drawing \n",
    "# are labelled a q_i\n",
    "qreg = QuantumRegister(N,'q')\n",
    "# create a classical register of N bits, called 'c'. Note that the bits in the drawing \n",
    "# are labelled a c_i\n",
    "creg = ClassicalRegister(N,'c')\n",
    "\n",
    "# create a quantum circuit with one quantum register and one classical register. \n",
    "circ = QuantumCircuit(qreg,creg)\n",
    "\n",
    "# only one gate in our circuit\n",
    "# you are add more from the list at \n",
    "# https://qiskit.org/documentation/stubs/qiskit.circuit.QuantumCircuit.html\n",
    "circ.x(1)\n",
    "\n",
    "# barriers don't do anything (for now), but they will help you separate\n",
    "# different parts of the circuit visually.\n",
    "circ.barrier()\n",
    "\n",
    "# finally measure the quantum register qreg and put the results in \n",
    "# the classical register creg\n",
    "#circ.measure(qreg,creg)\n",
    "\n",
    "# one thing you will notice is that the classical bitstrings are written reversed: \"c_1 c_0\"\n",
    "# rather than \"c_0 c_1\" I find it very annoying.\n",
    "# If you use the following measure command instead, it will write the bitstrings correctly.\n",
    "circ.measure(range(N),list(reversed(range(N))))\n",
    "\n",
    "# draw the circuit. Not necessary, and you won't want to do this for very \n",
    "# large circuits later on.\n",
    "print(circ.draw())\n",
    "\n",
    "# Now we are ready to simulate the quantum circuit\n",
    "# declare that you want to simulate on the simulator 'qasm_simulator'. There are others.\n",
    "simulator = Aer.get_backend('qasm_simulator')\n",
    "\n",
    "# simulate the circuit a number of times\n",
    "job = execute(circ,simulator,shots=1000)\n",
    "\n",
    "# get the results out\n",
    "result = job.result()\n",
    "\n",
    "# usually, we only care about the counts\n",
    "counts = result.get_counts()\n",
    "print(counts)\n",
    "\n",
    "# plot them as a histogram. Not very useful now, but can be later on.\n",
    "plot_histogram(counts)"
   ]
  },
  {
   "cell_type": "code",
   "execution_count": 4,
   "metadata": {},
   "outputs": [],
   "source": [
    "# you can always the simulation of a circuit inside a python function\n",
    "def CX(input):\n",
    "\n",
    "    N = 2\n",
    "    qreg = QuantumRegister(N,'q')\n",
    "    creg = ClassicalRegister(N,'c')\n",
    "    circ = QuantumCircuit(qreg,creg)\n",
    "    \n",
    "    # Encode the input into the state of the qubits\n",
    "    \n",
    "    if input[0] == 1:\n",
    "        circ.x(0)\n",
    "    if input[1] == 1:\n",
    "        circ.x(1)\n",
    "    \n",
    "    # put the inputs into the CX gate\n",
    "    circ.cx(0,1)\n",
    "\n",
    "    circ.measure(range(N),list(reversed(range(N))))\n",
    "\n",
    "\n",
    "    simulator = Aer.get_backend('qasm_simulator')\n",
    "    job = execute(circ,simulator,shots=1000)\n",
    "    result = job.result()\n",
    "    counts = result.get_counts()\n",
    "\n",
    "    return counts"
   ]
  },
  {
   "cell_type": "markdown",
   "metadata": {},
   "source": [
    "### Question 1"
   ]
  },
  {
   "cell_type": "code",
   "execution_count": 5,
   "metadata": {},
   "outputs": [
    {
     "name": "stdout",
     "output_type": "stream",
     "text": [
      "Input:  [0, 0] Ouput: {'00': 1000}\n",
      "Input:  [0, 1] Ouput: {'01': 1000}\n",
      "Input:  [1, 0] Ouput: {'11': 1000}\n",
      "Input:  [1, 1] Ouput: {'10': 1000}\n"
     ]
    }
   ],
   "source": [
    "for i in range(0,2):\n",
    "    for j in range(0,2):\n",
    "        print(\"Input: \",[i,j], \"Ouput:\",CX([i,j]))"
   ]
  },
  {
   "cell_type": "markdown",
   "metadata": {},
   "source": [
    "### Question 2"
   ]
  },
  {
   "cell_type": "code",
   "execution_count": 6,
   "metadata": {},
   "outputs": [
    {
     "name": "stdout",
     "output_type": "stream",
     "text": [
      "              ░ ┌─┐      \n",
      "q_0: |0>──■───░─┤M├──────\n",
      "          │   ░ └╥┘┌─┐   \n",
      "q_1: |0>──■───░──╫─┤M├───\n",
      "        ┌─┴─┐ ░  ║ └╥┘┌─┐\n",
      "q_2: |0>┤ X ├─░──╫──╫─┤M├\n",
      "        └───┘ ░  ║  ║ └╥┘\n",
      " c_0: 0 ═════════╬══╬══╩═\n",
      "                 ║  ║    \n",
      " c_1: 0 ═════════╬══╩════\n",
      "                 ║       \n",
      " c_2: 0 ═════════╩═══════\n",
      "                         \n"
     ]
    }
   ],
   "source": [
    "N = 3\n",
    "qreg = QuantumRegister(N,'q')\n",
    "creg = ClassicalRegister(N,'c')\n",
    "\n",
    "circ = QuantumCircuit(qreg,creg)\n",
    "circ.ccx(0,1,2)\n",
    "circ.barrier()\n",
    "circ.measure(range(N),list(reversed(range(N))))\n",
    "print(circ.draw())\n"
   ]
  },
  {
   "cell_type": "code",
   "execution_count": 7,
   "metadata": {},
   "outputs": [],
   "source": [
    "# you can always the simulation of a circuit inside a python function\n",
    "def CCX(input):\n",
    "\n",
    "    N = 3\n",
    "    qreg = QuantumRegister(N,'q')\n",
    "    creg = ClassicalRegister(N,'c')\n",
    "    circ = QuantumCircuit(qreg,creg)\n",
    "    \n",
    "    # Encode the input into the state of the qubits\n",
    "    for i in range(0,len(input)):\n",
    "        if input[i] == 1:\n",
    "            circ.x(i)\n",
    "    \n",
    "    # put the inputs into the CCX gate\n",
    "    circ.ccx(0,1,2)\n",
    "    \n",
    "    circ.measure(range(N),list(reversed(range(N))))\n",
    "\n",
    "    print(circ.draw())\n",
    "    simulator = Aer.get_backend('qasm_simulator')\n",
    "    job = execute(circ,simulator,shots=1000)\n",
    "    result = job.result()\n",
    "    counts = result.get_counts()\n",
    "\n",
    "    return counts"
   ]
  },
  {
   "cell_type": "code",
   "execution_count": 8,
   "metadata": {},
   "outputs": [
    {
     "name": "stdout",
     "output_type": "stream",
     "text": [
      "             ┌─┐      \n",
      "q_0: |0>──■──┤M├──────\n",
      "          │  └╥┘┌─┐   \n",
      "q_1: |0>──■───╫─┤M├───\n",
      "        ┌─┴─┐ ║ └╥┘┌─┐\n",
      "q_2: |0>┤ X ├─╫──╫─┤M├\n",
      "        └───┘ ║  ║ └╥┘\n",
      " c_0: 0 ══════╬══╬══╩═\n",
      "              ║  ║    \n",
      " c_1: 0 ══════╬══╩════\n",
      "              ║       \n",
      " c_2: 0 ══════╩═══════\n",
      "                      \n",
      "Input:  [0, 0, 0] Ouput:  {'000': 1000}\n",
      "                  ┌─┐      \n",
      "q_0: |0>───────■──┤M├──────\n",
      "               │  └╥┘┌─┐   \n",
      "q_1: |0>───────■───╫─┤M├───\n",
      "        ┌───┐┌─┴─┐ ║ └╥┘┌─┐\n",
      "q_2: |0>┤ X ├┤ X ├─╫──╫─┤M├\n",
      "        └───┘└───┘ ║  ║ └╥┘\n",
      " c_0: 0 ═══════════╬══╬══╩═\n",
      "                   ║  ║    \n",
      " c_1: 0 ═══════════╬══╩════\n",
      "                   ║       \n",
      " c_2: 0 ═══════════╩═══════\n",
      "                           \n",
      "Input:  [0, 0, 1] Ouput:  {'001': 1000}\n",
      "                  ┌─┐      \n",
      "q_0: |0>───────■──┤M├──────\n",
      "        ┌───┐  │  └╥┘┌─┐   \n",
      "q_1: |0>┤ X ├──■───╫─┤M├───\n",
      "        └───┘┌─┴─┐ ║ └╥┘┌─┐\n",
      "q_2: |0>─────┤ X ├─╫──╫─┤M├\n",
      "             └───┘ ║  ║ └╥┘\n",
      " c_0: 0 ═══════════╬══╬══╩═\n",
      "                   ║  ║    \n",
      " c_1: 0 ═══════════╬══╩════\n",
      "                   ║       \n",
      " c_2: 0 ═══════════╩═══════\n",
      "                           \n",
      "Input:  [0, 1, 0] Ouput:  {'010': 1000}\n",
      "                  ┌─┐      \n",
      "q_0: |0>───────■──┤M├──────\n",
      "        ┌───┐  │  └╥┘┌─┐   \n",
      "q_1: |0>┤ X ├──■───╫─┤M├───\n",
      "        ├───┤┌─┴─┐ ║ └╥┘┌─┐\n",
      "q_2: |0>┤ X ├┤ X ├─╫──╫─┤M├\n",
      "        └───┘└───┘ ║  ║ └╥┘\n",
      " c_0: 0 ═══════════╬══╬══╩═\n",
      "                   ║  ║    \n",
      " c_1: 0 ═══════════╬══╩════\n",
      "                   ║       \n",
      " c_2: 0 ═══════════╩═══════\n",
      "                           \n",
      "Input:  [0, 1, 1] Ouput:  {'011': 1000}\n",
      "        ┌───┐     ┌─┐      \n",
      "q_0: |0>┤ X ├──■──┤M├──────\n",
      "        └───┘  │  └╥┘┌─┐   \n",
      "q_1: |0>───────■───╫─┤M├───\n",
      "             ┌─┴─┐ ║ └╥┘┌─┐\n",
      "q_2: |0>─────┤ X ├─╫──╫─┤M├\n",
      "             └───┘ ║  ║ └╥┘\n",
      " c_0: 0 ═══════════╬══╬══╩═\n",
      "                   ║  ║    \n",
      " c_1: 0 ═══════════╬══╩════\n",
      "                   ║       \n",
      " c_2: 0 ═══════════╩═══════\n",
      "                           \n",
      "Input:  [1, 0, 0] Ouput:  {'100': 1000}\n",
      "        ┌───┐     ┌─┐      \n",
      "q_0: |0>┤ X ├──■──┤M├──────\n",
      "        └───┘  │  └╥┘┌─┐   \n",
      "q_1: |0>───────■───╫─┤M├───\n",
      "        ┌───┐┌─┴─┐ ║ └╥┘┌─┐\n",
      "q_2: |0>┤ X ├┤ X ├─╫──╫─┤M├\n",
      "        └───┘└───┘ ║  ║ └╥┘\n",
      " c_0: 0 ═══════════╬══╬══╩═\n",
      "                   ║  ║    \n",
      " c_1: 0 ═══════════╬══╩════\n",
      "                   ║       \n",
      " c_2: 0 ═══════════╩═══════\n",
      "                           \n",
      "Input:  [1, 0, 1] Ouput:  {'101': 1000}\n",
      "        ┌───┐     ┌─┐      \n",
      "q_0: |0>┤ X ├──■──┤M├──────\n",
      "        ├───┤  │  └╥┘┌─┐   \n",
      "q_1: |0>┤ X ├──■───╫─┤M├───\n",
      "        └───┘┌─┴─┐ ║ └╥┘┌─┐\n",
      "q_2: |0>─────┤ X ├─╫──╫─┤M├\n",
      "             └───┘ ║  ║ └╥┘\n",
      " c_0: 0 ═══════════╬══╬══╩═\n",
      "                   ║  ║    \n",
      " c_1: 0 ═══════════╬══╩════\n",
      "                   ║       \n",
      " c_2: 0 ═══════════╩═══════\n",
      "                           \n",
      "Input:  [1, 1, 0] Ouput:  {'111': 1000}\n",
      "        ┌───┐     ┌─┐      \n",
      "q_0: |0>┤ X ├──■──┤M├──────\n",
      "        ├───┤  │  └╥┘┌─┐   \n",
      "q_1: |0>┤ X ├──■───╫─┤M├───\n",
      "        ├───┤┌─┴─┐ ║ └╥┘┌─┐\n",
      "q_2: |0>┤ X ├┤ X ├─╫──╫─┤M├\n",
      "        └───┘└───┘ ║  ║ └╥┘\n",
      " c_0: 0 ═══════════╬══╬══╩═\n",
      "                   ║  ║    \n",
      " c_1: 0 ═══════════╬══╩════\n",
      "                   ║       \n",
      " c_2: 0 ═══════════╩═══════\n",
      "                           \n",
      "Input:  [1, 1, 1] Ouput:  {'110': 1000}\n"
     ]
    }
   ],
   "source": [
    "for i in range(0,2):\n",
    "    for j in range(0,2):\n",
    "        for k in range(0,2):\n",
    "            print(\"Input: \",[i,j,k],\"Ouput: \",CCX([i,j,k]))"
   ]
  },
  {
   "cell_type": "markdown",
   "metadata": {},
   "source": [
    "### Question 3"
   ]
  },
  {
   "cell_type": "code",
   "execution_count": 9,
   "metadata": {},
   "outputs": [],
   "source": [
    "# you can always the simulation of a circuit inside a python function\n",
    "def X(input):\n",
    "\n",
    "    N = 1\n",
    "    qreg = QuantumRegister(N,'q')\n",
    "    creg = ClassicalRegister(N,'c')\n",
    "    circ = QuantumCircuit(qreg,creg)\n",
    "    \n",
    "    # Encode the input into the state of the qubits\n",
    "    for i in range(0,len(input)):\n",
    "        if input[i] == 1:\n",
    "            circ.x(i)\n",
    "    \n",
    "    # put the inputs into the X gate\n",
    "    circ.x(0)\n",
    "\n",
    "    circ.measure(range(N),list(reversed(range(N))))\n",
    "\n",
    "    print(circ.draw())\n",
    "\n",
    "    simulator = Aer.get_backend('qasm_simulator')\n",
    "    job = execute(circ,simulator,shots=1000)\n",
    "    result = job.result()\n",
    "    counts = result.get_counts()\n",
    "\n",
    "    return counts\n"
   ]
  },
  {
   "cell_type": "code",
   "execution_count": 10,
   "metadata": {},
   "outputs": [],
   "source": [
    "def HZH(input):\n",
    "\n",
    "    N = 1\n",
    "    qreg = QuantumRegister(N,'q')\n",
    "    creg = ClassicalRegister(N,'c')\n",
    "    circ = QuantumCircuit(qreg,creg)\n",
    "    \n",
    "    # Encode the input into the state of the qubits\n",
    "    for i in range(0,len(input)):\n",
    "        if input[i] == 1:\n",
    "            circ.x(i)\n",
    "    \n",
    "    # put the inputs into H, Z and then H gate\n",
    "    circ.h(0)\n",
    "    circ.z(0)\n",
    "    circ.h(0)\n",
    "    circ.measure(range(N),list(reversed(range(N))))\n",
    "\n",
    "    print(circ.draw())\n",
    "\n",
    "    simulator = Aer.get_backend('qasm_simulator')\n",
    "    job = execute(circ,simulator,shots=1000)\n",
    "    result = job.result()\n",
    "    counts = result.get_counts()\n",
    "\n",
    "    return counts"
   ]
  },
  {
   "cell_type": "code",
   "execution_count": 11,
   "metadata": {},
   "outputs": [
    {
     "name": "stdout",
     "output_type": "stream",
     "text": [
      "        ┌───┐┌─┐\n",
      "q_0: |0>┤ X ├┤M├\n",
      "        └───┘└╥┘\n",
      " c_0: 0 ══════╩═\n",
      "                \n",
      "Input: [0] Ouput: {'1': 1000}\n",
      "        ┌───┐┌───┐┌─┐\n",
      "q_0: |0>┤ X ├┤ X ├┤M├\n",
      "        └───┘└───┘└╥┘\n",
      " c_0: 0 ═══════════╩═\n",
      "                     \n",
      "Input: [1] Ouput: {'0': 1000}\n"
     ]
    }
   ],
   "source": [
    "for i in range(0,2):\n",
    "    print(\"Input:\",[i],\"Ouput:\",X([i]))"
   ]
  },
  {
   "cell_type": "markdown",
   "metadata": {},
   "source": [
    "### Question 4 "
   ]
  },
  {
   "cell_type": "code",
   "execution_count": 12,
   "metadata": {},
   "outputs": [],
   "source": [
    "def f0(lst):\n",
    "    N = 2\n",
    "    qreg = QuantumRegister(N,'q')\n",
    "    creg = ClassicalRegister(N,'c')\n",
    "    circ = QuantumCircuit(qreg,creg)\n",
    "\n",
    "    # Encode the input into the state of the qubits\n",
    "    for i in range(0,len(lst)):\n",
    "        if lst[i] == 1:\n",
    "            circ.x(i)\n",
    "    circ.barrier()\n",
    "\n",
    "    circ.measure(range(N),list(reversed(range(N))))\n",
    "    print(circ.draw())\n",
    "\n",
    "    simulator = Aer.get_backend('qasm_simulator')\n",
    "    job = execute(circ,simulator,shots=1000)\n",
    "    result = job.result()\n",
    "    counts = result.get_counts()\n",
    "    return counts\n",
    "    "
   ]
  },
  {
   "cell_type": "code",
   "execution_count": 13,
   "metadata": {},
   "outputs": [
    {
     "name": "stdout",
     "output_type": "stream",
     "text": [
      "         ░ ┌─┐   \n",
      "q_0: |0>─░─┤M├───\n",
      "         ░ └╥┘┌─┐\n",
      "q_1: |0>─░──╫─┤M├\n",
      "         ░  ║ └╥┘\n",
      " c_0: 0 ════╬══╩═\n",
      "            ║    \n",
      " c_1: 0 ════╩════\n",
      "                 \n",
      "Input:  [0, 0] Ouput: {'00': 1000}\n",
      "              ░ ┌─┐   \n",
      "q_0: |0>──────░─┤M├───\n",
      "        ┌───┐ ░ └╥┘┌─┐\n",
      "q_1: |0>┤ X ├─░──╫─┤M├\n",
      "        └───┘ ░  ║ └╥┘\n",
      " c_0: 0 ═════════╬══╩═\n",
      "                 ║    \n",
      " c_1: 0 ═════════╩════\n",
      "                      \n",
      "Input:  [0, 1] Ouput: {'01': 1000}\n",
      "        ┌───┐ ░ ┌─┐   \n",
      "q_0: |0>┤ X ├─░─┤M├───\n",
      "        └───┘ ░ └╥┘┌─┐\n",
      "q_1: |0>──────░──╫─┤M├\n",
      "              ░  ║ └╥┘\n",
      " c_0: 0 ═════════╬══╩═\n",
      "                 ║    \n",
      " c_1: 0 ═════════╩════\n",
      "                      \n",
      "Input:  [1, 0] Ouput: {'10': 1000}\n",
      "        ┌───┐ ░ ┌─┐   \n",
      "q_0: |0>┤ X ├─░─┤M├───\n",
      "        ├───┤ ░ └╥┘┌─┐\n",
      "q_1: |0>┤ X ├─░──╫─┤M├\n",
      "        └───┘ ░  ║ └╥┘\n",
      " c_0: 0 ═════════╬══╩═\n",
      "                 ║    \n",
      " c_1: 0 ═════════╩════\n",
      "                      \n",
      "Input:  [1, 1] Ouput: {'11': 1000}\n"
     ]
    }
   ],
   "source": [
    "for i in range(0,2):\n",
    "    for j in range(0,2):\n",
    "        print(\"Input: \",[i,j], \"Ouput:\",f0([i,j]))"
   ]
  },
  {
   "cell_type": "code",
   "execution_count": 14,
   "metadata": {},
   "outputs": [],
   "source": [
    "def f1(lst):\n",
    "    N = 2\n",
    "    qreg = QuantumRegister(N,'q')\n",
    "    creg = ClassicalRegister(N,'c')\n",
    "    circ = QuantumCircuit(qreg,creg)\n",
    "\n",
    "    # Encode the input into the state of the qubits\n",
    "    for i in range(0,len(lst)):\n",
    "        if lst[i] == 1:\n",
    "            circ.x(i)\n",
    "    # put the inputs into the CX gate\n",
    "    circ.cx(0,1)    \n",
    "    circ.barrier()\n",
    "    circ.measure(range(N),list(reversed(range(N))))\n",
    "    print(circ.draw())\n",
    "\n",
    "    simulator = Aer.get_backend('qasm_simulator')\n",
    "    job = execute(circ,simulator,shots=1000)\n",
    "    result = job.result()\n",
    "    counts = result.get_counts()\n",
    "    return counts\n",
    "    "
   ]
  },
  {
   "cell_type": "code",
   "execution_count": 15,
   "metadata": {},
   "outputs": [
    {
     "name": "stdout",
     "output_type": "stream",
     "text": [
      "              ░ ┌─┐   \n",
      "q_0: |0>──■───░─┤M├───\n",
      "        ┌─┴─┐ ░ └╥┘┌─┐\n",
      "q_1: |0>┤ X ├─░──╫─┤M├\n",
      "        └───┘ ░  ║ └╥┘\n",
      " c_0: 0 ═════════╬══╩═\n",
      "                 ║    \n",
      " c_1: 0 ═════════╩════\n",
      "                      \n",
      "Input:  [0, 0] Output: {'00': 1000}\n",
      "                   ░ ┌─┐   \n",
      "q_0: |0>───────■───░─┤M├───\n",
      "        ┌───┐┌─┴─┐ ░ └╥┘┌─┐\n",
      "q_1: |0>┤ X ├┤ X ├─░──╫─┤M├\n",
      "        └───┘└───┘ ░  ║ └╥┘\n",
      " c_0: 0 ══════════════╬══╩═\n",
      "                      ║    \n",
      " c_1: 0 ══════════════╩════\n",
      "                           \n",
      "Input:  [0, 1] Output: {'01': 1000}\n",
      "        ┌───┐      ░ ┌─┐   \n",
      "q_0: |0>┤ X ├──■───░─┤M├───\n",
      "        └───┘┌─┴─┐ ░ └╥┘┌─┐\n",
      "q_1: |0>─────┤ X ├─░──╫─┤M├\n",
      "             └───┘ ░  ║ └╥┘\n",
      " c_0: 0 ══════════════╬══╩═\n",
      "                      ║    \n",
      " c_1: 0 ══════════════╩════\n",
      "                           \n",
      "Input:  [1, 0] Output: {'11': 1000}\n",
      "        ┌───┐      ░ ┌─┐   \n",
      "q_0: |0>┤ X ├──■───░─┤M├───\n",
      "        ├───┤┌─┴─┐ ░ └╥┘┌─┐\n",
      "q_1: |0>┤ X ├┤ X ├─░──╫─┤M├\n",
      "        └───┘└───┘ ░  ║ └╥┘\n",
      " c_0: 0 ══════════════╬══╩═\n",
      "                      ║    \n",
      " c_1: 0 ══════════════╩════\n",
      "                           \n",
      "Input:  [1, 1] Output: {'10': 1000}\n"
     ]
    }
   ],
   "source": [
    "for i in range(0,2):\n",
    "    for j in range(0,2):\n",
    "        print(\"Input: \",[i,j], \"Output:\",f1([i,j]))"
   ]
  },
  {
   "cell_type": "code",
   "execution_count": 16,
   "metadata": {},
   "outputs": [],
   "source": [
    "def f2(lst):\n",
    "    N = 2\n",
    "    qreg = QuantumRegister(N,'q')\n",
    "    creg = ClassicalRegister(N,'c')\n",
    "    circ = QuantumCircuit(qreg,creg)\n",
    "\n",
    "    # Encode the input into the state of the qubits\n",
    "    for i in range(0,len(lst)):\n",
    "        if lst[i] == 1:\n",
    "            circ.x(i)\n",
    "    # put the inputs into the CX gate\n",
    "    circ.x(1)\n",
    "    circ.cx(0,1)\n",
    "\n",
    "    circ.barrier()\n",
    "    circ.measure(range(N),list(reversed(range(N))))\n",
    "    print(circ.draw())\n",
    "\n",
    "    simulator = Aer.get_backend('qasm_simulator')\n",
    "    job = execute(circ,simulator,shots=1000)\n",
    "    result = job.result()\n",
    "    counts = result.get_counts()\n",
    "    return counts\n",
    "    "
   ]
  },
  {
   "cell_type": "code",
   "execution_count": 17,
   "metadata": {},
   "outputs": [
    {
     "name": "stdout",
     "output_type": "stream",
     "text": [
      "                   ░ ┌─┐   \n",
      "q_0: |0>───────■───░─┤M├───\n",
      "        ┌───┐┌─┴─┐ ░ └╥┘┌─┐\n",
      "q_1: |0>┤ X ├┤ X ├─░──╫─┤M├\n",
      "        └───┘└───┘ ░  ║ └╥┘\n",
      " c_0: 0 ══════════════╬══╩═\n",
      "                      ║    \n",
      " c_1: 0 ══════════════╩════\n",
      "                           \n",
      "Input:  [0, 0] Output: {'01': 1000}\n",
      "                        ░ ┌─┐   \n",
      "q_0: |0>────────────■───░─┤M├───\n",
      "        ┌───┐┌───┐┌─┴─┐ ░ └╥┘┌─┐\n",
      "q_1: |0>┤ X ├┤ X ├┤ X ├─░──╫─┤M├\n",
      "        └───┘└───┘└───┘ ░  ║ └╥┘\n",
      " c_0: 0 ═══════════════════╬══╩═\n",
      "                           ║    \n",
      " c_1: 0 ═══════════════════╩════\n",
      "                                \n",
      "Input:  [0, 1] Output: {'00': 1000}\n",
      "        ┌───┐      ░ ┌─┐   \n",
      "q_0: |0>┤ X ├──■───░─┤M├───\n",
      "        ├───┤┌─┴─┐ ░ └╥┘┌─┐\n",
      "q_1: |0>┤ X ├┤ X ├─░──╫─┤M├\n",
      "        └───┘└───┘ ░  ║ └╥┘\n",
      " c_0: 0 ══════════════╬══╩═\n",
      "                      ║    \n",
      " c_1: 0 ══════════════╩════\n",
      "                           \n",
      "Input:  [1, 0] Output: {'10': 1000}\n",
      "        ┌───┐           ░ ┌─┐   \n",
      "q_0: |0>┤ X ├───────■───░─┤M├───\n",
      "        ├───┤┌───┐┌─┴─┐ ░ └╥┘┌─┐\n",
      "q_1: |0>┤ X ├┤ X ├┤ X ├─░──╫─┤M├\n",
      "        └───┘└───┘└───┘ ░  ║ └╥┘\n",
      " c_0: 0 ═══════════════════╬══╩═\n",
      "                           ║    \n",
      " c_1: 0 ═══════════════════╩════\n",
      "                                \n",
      "Input:  [1, 1] Output: {'11': 1000}\n"
     ]
    }
   ],
   "source": [
    "for i in range(0,2):\n",
    "    for j in range(0,2):\n",
    "        print(\"Input: \",[i,j], \"Output:\",f2([i,j]))"
   ]
  },
  {
   "cell_type": "code",
   "execution_count": 18,
   "metadata": {},
   "outputs": [],
   "source": [
    "def f3(lst):\n",
    "    N = 2\n",
    "    qreg = QuantumRegister(N,'q')\n",
    "    creg = ClassicalRegister(N,'c')\n",
    "    circ = QuantumCircuit(qreg,creg)\n",
    "\n",
    "    # Encode the input into the state of the qubits\n",
    "    for i in range(0,len(lst)):\n",
    "        if lst[i] == 1:\n",
    "            circ.x(i)\n",
    "    # put the inputs into the CX gate\n",
    "    circ.x(1)\n",
    "\n",
    "    circ.barrier()\n",
    "    circ.measure(range(N),list(reversed(range(N))))\n",
    "    print(circ.draw())\n",
    "\n",
    "    simulator = Aer.get_backend('qasm_simulator')\n",
    "    job = execute(circ,simulator,shots=1000)\n",
    "    result = job.result()\n",
    "    counts = result.get_counts()\n",
    "    return counts\n",
    "    "
   ]
  },
  {
   "cell_type": "code",
   "execution_count": 19,
   "metadata": {},
   "outputs": [
    {
     "name": "stdout",
     "output_type": "stream",
     "text": [
      "              ░ ┌─┐   \n",
      "q_0: |0>──────░─┤M├───\n",
      "        ┌───┐ ░ └╥┘┌─┐\n",
      "q_1: |0>┤ X ├─░──╫─┤M├\n",
      "        └───┘ ░  ║ └╥┘\n",
      " c_0: 0 ═════════╬══╩═\n",
      "                 ║    \n",
      " c_1: 0 ═════════╩════\n",
      "                      \n",
      "Input:  [0, 0] Output: {'01': 1000}\n",
      "                   ░ ┌─┐   \n",
      "q_0: |0>───────────░─┤M├───\n",
      "        ┌───┐┌───┐ ░ └╥┘┌─┐\n",
      "q_1: |0>┤ X ├┤ X ├─░──╫─┤M├\n",
      "        └───┘└───┘ ░  ║ └╥┘\n",
      " c_0: 0 ══════════════╬══╩═\n",
      "                      ║    \n",
      " c_1: 0 ══════════════╩════\n",
      "                           \n",
      "Input:  [0, 1] Output: {'00': 1000}\n",
      "        ┌───┐ ░ ┌─┐   \n",
      "q_0: |0>┤ X ├─░─┤M├───\n",
      "        ├───┤ ░ └╥┘┌─┐\n",
      "q_1: |0>┤ X ├─░──╫─┤M├\n",
      "        └───┘ ░  ║ └╥┘\n",
      " c_0: 0 ═════════╬══╩═\n",
      "                 ║    \n",
      " c_1: 0 ═════════╩════\n",
      "                      \n",
      "Input:  [1, 0] Output: {'11': 1000}\n",
      "        ┌───┐      ░ ┌─┐   \n",
      "q_0: |0>┤ X ├──────░─┤M├───\n",
      "        ├───┤┌───┐ ░ └╥┘┌─┐\n",
      "q_1: |0>┤ X ├┤ X ├─░──╫─┤M├\n",
      "        └───┘└───┘ ░  ║ └╥┘\n",
      " c_0: 0 ══════════════╬══╩═\n",
      "                      ║    \n",
      " c_1: 0 ══════════════╩════\n",
      "                           \n",
      "Input:  [1, 1] Output: {'10': 1000}\n"
     ]
    }
   ],
   "source": [
    "for i in range(0,2):\n",
    "    for j in range(0,2):\n",
    "        print(\"Input: \",[i,j], \"Output:\",f3([i,j]))"
   ]
  },
  {
   "cell_type": "markdown",
   "metadata": {},
   "source": [
    "### Question 5\n"
   ]
  },
  {
   "cell_type": "code",
   "execution_count": 20,
   "metadata": {},
   "outputs": [],
   "source": [
    "def f0(circ):\n",
    "    pass"
   ]
  },
  {
   "cell_type": "code",
   "execution_count": 21,
   "metadata": {},
   "outputs": [],
   "source": [
    "def f1(circ):\n",
    "    circ.cx(0, 1)"
   ]
  },
  {
   "cell_type": "code",
   "execution_count": 22,
   "metadata": {},
   "outputs": [],
   "source": [
    "def f2(circ):\n",
    "    circ.x(1)\n",
    "    circ.cx(0,1)"
   ]
  },
  {
   "cell_type": "code",
   "execution_count": 23,
   "metadata": {},
   "outputs": [],
   "source": [
    "def f3(circ):\n",
    "    circ.x(1)"
   ]
  },
  {
   "cell_type": "code",
   "execution_count": 49,
   "metadata": {},
   "outputs": [],
   "source": [
    "def Deutsch(control):\n",
    "    N = 2\n",
    "    qreg = QuantumRegister(N,'q')\n",
    "    creg = ClassicalRegister(N,'c')\n",
    "    circ = QuantumCircuit(qreg,creg)\n",
    "\n",
    "    circ.h(0)\n",
    "    circ.x(1)\n",
    "    circ.h(1)\n",
    "    dic= {1:f0,2:f1,3:f2,4:f3}\n",
    "    dic[control](circ)\n",
    "    \n",
    "    circ.h(0)\n",
    "    circ.measure(range(N),list(reversed(range(N))))\n",
    "    print(circ.draw())\n",
    "    \n",
    "    simulator = Aer.get_backend('qasm_simulator')\n",
    "    job = execute(circ,simulator,shots=1)\n",
    "    result = job.result()\n",
    "    counts = result.get_counts()\n",
    "\n",
    "    output = int(list(counts.keys())[0][0])\n",
    "    if output==1:\n",
    "        return \"function is balanced\"\n",
    "    if output==0:\n",
    "        return \"function is constant\"\n",
    "    \n"
   ]
  },
  {
   "cell_type": "code",
   "execution_count": 50,
   "metadata": {},
   "outputs": [
    {
     "name": "stdout",
     "output_type": "stream",
     "text": [
      "        ┌───┐┌───┐     ┌─┐   \n",
      "q_0: |0>┤ H ├┤ H ├─────┤M├───\n",
      "        ├───┤├───┤┌───┐└╥┘┌─┐\n",
      "q_1: |0>┤ X ├┤ H ├┤ X ├─╫─┤M├\n",
      "        └───┘└───┘└───┘ ║ └╥┘\n",
      " c_0: 0 ════════════════╬══╩═\n",
      "                        ║    \n",
      " c_1: 0 ════════════════╩════\n",
      "                             \n"
     ]
    },
    {
     "data": {
      "text/plain": [
       "'function is constant'"
      ]
     },
     "execution_count": 50,
     "metadata": {},
     "output_type": "execute_result"
    }
   ],
   "source": [
    "Deutsch(4)"
   ]
  },
  {
   "cell_type": "code",
   "execution_count": 51,
   "metadata": {},
   "outputs": [
    {
     "name": "stdout",
     "output_type": "stream",
     "text": [
      "        ┌───┐               ┌───┐┌─┐\n",
      "q_0: |0>┤ H ├────────────■──┤ H ├┤M├\n",
      "        ├───┤┌───┐┌───┐┌─┴─┐└┬─┬┘└╥┘\n",
      "q_1: |0>┤ X ├┤ H ├┤ X ├┤ X ├─┤M├──╫─\n",
      "        └───┘└───┘└───┘└───┘ └╥┘  ║ \n",
      " c_0: 0 ══════════════════════╩═══╬═\n",
      "                                  ║ \n",
      " c_1: 0 ══════════════════════════╩═\n",
      "                                    \n"
     ]
    },
    {
     "data": {
      "text/plain": [
       "'function is balanced'"
      ]
     },
     "execution_count": 51,
     "metadata": {},
     "output_type": "execute_result"
    }
   ],
   "source": [
    "Deutsch(3)"
   ]
  },
  {
   "cell_type": "code",
   "execution_count": 53,
   "metadata": {},
   "outputs": [
    {
     "name": "stdout",
     "output_type": "stream",
     "text": [
      "        ┌───┐          ┌───┐┌─┐\n",
      "q_0: |0>┤ H ├───────■──┤ H ├┤M├\n",
      "        ├───┤┌───┐┌─┴─┐└┬─┬┘└╥┘\n",
      "q_1: |0>┤ X ├┤ H ├┤ X ├─┤M├──╫─\n",
      "        └───┘└───┘└───┘ └╥┘  ║ \n",
      " c_0: 0 ═════════════════╩═══╬═\n",
      "                             ║ \n",
      " c_1: 0 ═════════════════════╩═\n",
      "                               \n"
     ]
    },
    {
     "data": {
      "text/plain": [
       "'function is balanced'"
      ]
     },
     "execution_count": 53,
     "metadata": {},
     "output_type": "execute_result"
    }
   ],
   "source": [
    "Deutsch(2)"
   ]
  },
  {
   "cell_type": "code",
   "execution_count": 54,
   "metadata": {},
   "outputs": [
    {
     "name": "stdout",
     "output_type": "stream",
     "text": [
      "        ┌───┐┌───┐┌─┐   \n",
      "q_0: |0>┤ H ├┤ H ├┤M├───\n",
      "        ├───┤├───┤└╥┘┌─┐\n",
      "q_1: |0>┤ X ├┤ H ├─╫─┤M├\n",
      "        └───┘└───┘ ║ └╥┘\n",
      " c_0: 0 ═══════════╬══╩═\n",
      "                   ║    \n",
      " c_1: 0 ═══════════╩════\n",
      "                        \n"
     ]
    },
    {
     "data": {
      "text/plain": [
       "'function is constant'"
      ]
     },
     "execution_count": 54,
     "metadata": {},
     "output_type": "execute_result"
    }
   ],
   "source": [
    "Deutsch(1)"
   ]
  },
  {
   "cell_type": "code",
   "execution_count": null,
   "metadata": {},
   "outputs": [],
   "source": [
    "#Discussed Deutsch's Algorithm with Sheheryar"
   ]
  }
 ],
 "metadata": {
  "kernelspec": {
   "display_name": "Python 3",
   "language": "python",
   "name": "python3"
  },
  "language_info": {
   "codemirror_mode": {
    "name": "ipython",
    "version": 3
   },
   "file_extension": ".py",
   "mimetype": "text/x-python",
   "name": "python",
   "nbconvert_exporter": "python",
   "pygments_lexer": "ipython3",
   "version": "3.7.3"
  }
 },
 "nbformat": 4,
 "nbformat_minor": 4
}
